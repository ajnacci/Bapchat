{
  "nbformat": 4,
  "nbformat_minor": 0,
  "metadata": {
    "colab": {
      "name": "train_model.ipynb",
      "provenance": [],
      "collapsed_sections": [],
      "toc_visible": true
    },
    "kernelspec": {
      "name": "python3",
      "display_name": "Python 3"
    },
    "accelerator": "GPU"
  },
  "cells": [
    {
      "cell_type": "code",
      "metadata": {
        "id": "h4gsZG90aACP",
        "colab_type": "code",
        "colab": {}
      },
      "source": [
        "from google.colab import drive\n",
        "\n",
        "drive.mount('/content/drive')"
      ],
      "execution_count": null,
      "outputs": []
    },
    {
      "cell_type": "code",
      "metadata": {
        "id": "DuSPSCPbtCno",
        "colab_type": "code",
        "colab": {}
      },
      "source": [
        "!pip3 install transformers"
      ],
      "execution_count": null,
      "outputs": []
    },
    {
      "cell_type": "code",
      "metadata": {
        "id": "9ONxZU5NaqdN",
        "colab_type": "code",
        "colab": {}
      },
      "source": [
        "!cp drive/My\\ Drive/<ENTER INPUT FOLDER HERE>/* .\n",
        "!python run_language_modeling.py \\\n",
        "    --save_total_limit=3 \\\n",
        "    --output_dir=./output \\\n",
        "    --model_type=gpt2 \\\n",
        "    --model_name_or_path=gpt2 \\\n",
        "    --do_train \\\n",
        "    --train_data_file=./train.txt \\\n",
        "    --do_eval \\\n",
        "    --eval_data_file=./val.txt \\\n",
        "    --block_size=100 \\\n",
        "    --overwrite_output_dir\n",
        "!rm -r ./output/checkpoint* \n",
        "!mv ./output/* ./drive/My\\ Drive/<ENTER OUTPUT FOLDER HERE>"
      ],
      "execution_count": null,
      "outputs": []
    }
  ]
}